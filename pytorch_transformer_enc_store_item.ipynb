{
 "cells": [
  {
   "cell_type": "markdown",
   "metadata": {},
   "source": [
    "## Importing libraries"
   ]
  },
  {
   "cell_type": "code",
   "execution_count": 1,
   "metadata": {},
   "outputs": [],
   "source": [
    "import numpy as np\n",
    "import pandas as pd\n",
    "import matplotlib.pyplot as plt\n",
    "from tensorflow.keras.models import Sequential, load_model\n",
    "from tensorflow.keras.layers import (\n",
    "    Dense,\n",
    "    LSTM,\n",
    "    Dropout,\n",
    "    Lambda,\n",
    "    Flatten,\n",
    "    TimeDistributed\n",
    ")\n",
    "from tensorflow.keras.callbacks import EarlyStopping\n",
    "from tensorboard.plugins.hparams import api as hp\n",
    "from tensorflow.keras.optimizers import Adam, SGD\n",
    "from statsmodels.tsa.stattools import adfuller\n",
    "from statsmodels.graphics.tsaplots import plot_acf, plot_pacf\n",
    "from scipy.stats import moment\n",
    "\n",
    "# Pytorch\n",
    "import torch\n",
    "from torch.utils.data import DataLoader, Dataset\n",
    "import torch.nn as nn\n",
    "import torch.nn.functional as F\n",
    "from torch.autograd import Variable\n",
    "\n",
    "import sklearn\n",
    "from sklearn.metrics import mean_squared_error\n",
    "import math\n",
    "import plotly.express as px\n",
    "\n",
    "import time\n",
    "import math\n",
    "from matplotlib import pyplot\n",
    "from sklearn.preprocessing import MinMaxScaler\n",
    "\n",
    "import joypy\n",
    "import time\n",
    "import math\n",
    "from matplotlib import pyplot\n",
    "from sklearn.preprocessing import MinMaxScaler, StandardScaler\n",
    "from transformer.model import TransformerTimeSeries\n",
    "from transformer.utils import TransformerSet, batch_train, batch_val\n",
    "import seaborn as sns\n",
    "import os\n",
    "import random"
   ]
  },
  {
   "cell_type": "markdown",
   "metadata": {},
   "source": [
    "## Get train and test sets"
   ]
  },
  {
   "cell_type": "code",
   "execution_count": 2,
   "metadata": {},
   "outputs": [],
   "source": [
    "train_set = pd.read_csv('train.csv')\n",
    "test_set = pd.read_csv('test.csv')\n",
    "train_set['date'] = pd.to_datetime(train_set['date'], format=\"%Y-%m-%d\")"
   ]
  },
  {
   "cell_type": "code",
   "execution_count": 3,
   "metadata": {},
   "outputs": [
    {
     "data": {
      "text/html": [
       "<div>\n",
       "<style scoped>\n",
       "    .dataframe tbody tr th:only-of-type {\n",
       "        vertical-align: middle;\n",
       "    }\n",
       "\n",
       "    .dataframe tbody tr th {\n",
       "        vertical-align: top;\n",
       "    }\n",
       "\n",
       "    .dataframe thead th {\n",
       "        text-align: right;\n",
       "    }\n",
       "</style>\n",
       "<table border=\"1\" class=\"dataframe\">\n",
       "  <thead>\n",
       "    <tr style=\"text-align: right;\">\n",
       "      <th></th>\n",
       "      <th>date</th>\n",
       "      <th>store</th>\n",
       "      <th>item</th>\n",
       "      <th>sales</th>\n",
       "    </tr>\n",
       "  </thead>\n",
       "  <tbody>\n",
       "    <tr>\n",
       "      <th>0</th>\n",
       "      <td>2013-01-01</td>\n",
       "      <td>1</td>\n",
       "      <td>1</td>\n",
       "      <td>13</td>\n",
       "    </tr>\n",
       "    <tr>\n",
       "      <th>1</th>\n",
       "      <td>2013-01-02</td>\n",
       "      <td>1</td>\n",
       "      <td>1</td>\n",
       "      <td>11</td>\n",
       "    </tr>\n",
       "    <tr>\n",
       "      <th>2</th>\n",
       "      <td>2013-01-03</td>\n",
       "      <td>1</td>\n",
       "      <td>1</td>\n",
       "      <td>14</td>\n",
       "    </tr>\n",
       "    <tr>\n",
       "      <th>3</th>\n",
       "      <td>2013-01-04</td>\n",
       "      <td>1</td>\n",
       "      <td>1</td>\n",
       "      <td>13</td>\n",
       "    </tr>\n",
       "    <tr>\n",
       "      <th>4</th>\n",
       "      <td>2013-01-05</td>\n",
       "      <td>1</td>\n",
       "      <td>1</td>\n",
       "      <td>10</td>\n",
       "    </tr>\n",
       "  </tbody>\n",
       "</table>\n",
       "</div>"
      ],
      "text/plain": [
       "        date  store  item  sales\n",
       "0 2013-01-01      1     1     13\n",
       "1 2013-01-02      1     1     11\n",
       "2 2013-01-03      1     1     14\n",
       "3 2013-01-04      1     1     13\n",
       "4 2013-01-05      1     1     10"
      ]
     },
     "execution_count": 3,
     "metadata": {},
     "output_type": "execute_result"
    }
   ],
   "source": [
    "train_set.head()"
   ]
  },
  {
   "cell_type": "markdown",
   "metadata": {},
   "source": [
    "## Insert the notion of weekdays  and days of month"
   ]
  },
  {
   "cell_type": "code",
   "execution_count": 4,
   "metadata": {},
   "outputs": [],
   "source": [
    "train_set['year']    =  train_set['date'].dt.year\n",
    "train_set['month']   =  train_set['date'].dt.month\n",
    "train_set['day']     =  train_set['date'].dt.dayofyear\n",
    "train_set['weekday'] =  train_set['date'].dt.weekday\n",
    "train_set['weekend'] =  train_set['weekday'] > 4"
   ]
  },
  {
   "cell_type": "markdown",
   "metadata": {},
   "source": [
    "## Verifing the correlation between weekendays and sales"
   ]
  },
  {
   "cell_type": "code",
   "execution_count": 5,
   "metadata": {
    "tags": []
   },
   "outputs": [
    {
     "name": "stdout",
     "output_type": "stream",
     "text": [
      "6\n",
      "0\n"
     ]
    },
    {
     "data": {
      "text/plain": [
       "Text(0, 0.5, 'Mean of sales value')"
      ]
     },
     "execution_count": 5,
     "metadata": {},
     "output_type": "execute_result"
    },
    {
     "data": {
      "image/png": "[encoded data removed]",
      "text/plain": [
       "<Figure size 432x288 with 1 Axes>"
      ]
     },
     "metadata": {
      "needs_background": "light"
     },
     "output_type": "display_data"
    }
   ],
   "source": [
    "print(train_set['weekday'].max())\n",
    "print(train_set['weekday'].min())\n",
    "\n",
    "for value in range(train_set['weekday'].min(),train_set['weekday'].max() + 1):\n",
    "    mean_weekday = train_set[(train_set['weekday'] == value)]['sales'].mean() \n",
    "    plt.bar([value],[mean_weekday], label=f'mean weekday{value}')\n",
    "\n",
    "plt.legend()\n",
    "plt.ylabel('Mean of sales value')"
   ]
  },
  {
   "cell_type": "markdown",
   "metadata": {},
   "source": [
    "### This shows that the sales value increases in the weekends and decreces in the weekdays\n",
    "This means that the weekdays could be valuable income data in a machine learning model, this is possible to know beforehand what the weekdays of the desirable prediction and this data presents a direct correlation between the value of the sales. Thus, the `weekdays` value could be a good entry feature of the model."
   ]
  },
  {
   "cell_type": "markdown",
   "metadata": {},
   "source": [
    "## Geting the series of one store and one item"
   ]
  },
  {
   "cell_type": "code",
   "execution_count": 6,
   "metadata": {},
   "outputs": [],
   "source": [
    "item_set = train_set[(train_set['item'] == 1) & (train_set['store'] == 1)]"
   ]
  },
  {
   "cell_type": "code",
   "execution_count": 7,
   "metadata": {},
   "outputs": [],
   "source": [
    "item_train_set = item_set[(item_set['date'] < \"2016-12-31\")]\n",
    "item_test_set  = item_set[(item_set['date'] > \"2016-12-31\")]"
   ]
  },
  {
   "cell_type": "code",
   "execution_count": 8,
   "metadata": {},
   "outputs": [
    {
     "data": {
      "text/html": [
       "<div>\n",
       "<style scoped>\n",
       "    .dataframe tbody tr th:only-of-type {\n",
       "        vertical-align: middle;\n",
       "    }\n",
       "\n",
       "    .dataframe tbody tr th {\n",
       "        vertical-align: top;\n",
       "    }\n",
       "\n",
       "    .dataframe thead th {\n",
       "        text-align: right;\n",
       "    }\n",
       "</style>\n",
       "<table border=\"1\" class=\"dataframe\">\n",
       "  <thead>\n",
       "    <tr style=\"text-align: right;\">\n",
       "      <th></th>\n",
       "      <th>date</th>\n",
       "      <th>store</th>\n",
       "      <th>item</th>\n",
       "      <th>sales</th>\n",
       "      <th>year</th>\n",
       "      <th>month</th>\n",
       "      <th>day</th>\n",
       "      <th>weekday</th>\n",
       "      <th>weekend</th>\n",
       "    </tr>\n",
       "  </thead>\n",
       "  <tbody>\n",
       "    <tr>\n",
       "      <th>0</th>\n",
       "      <td>2013-01-01</td>\n",
       "      <td>1</td>\n",
       "      <td>1</td>\n",
       "      <td>13</td>\n",
       "      <td>2013</td>\n",
       "      <td>1</td>\n",
       "      <td>1</td>\n",
       "      <td>1</td>\n",
       "      <td>False</td>\n",
       "    </tr>\n",
       "    <tr>\n",
       "      <th>1</th>\n",
       "      <td>2013-01-02</td>\n",
       "      <td>1</td>\n",
       "      <td>1</td>\n",
       "      <td>11</td>\n",
       "      <td>2013</td>\n",
       "      <td>1</td>\n",
       "      <td>2</td>\n",
       "      <td>2</td>\n",
       "      <td>False</td>\n",
       "    </tr>\n",
       "    <tr>\n",
       "      <th>2</th>\n",
       "      <td>2013-01-03</td>\n",
       "      <td>1</td>\n",
       "      <td>1</td>\n",
       "      <td>14</td>\n",
       "      <td>2013</td>\n",
       "      <td>1</td>\n",
       "      <td>3</td>\n",
       "      <td>3</td>\n",
       "      <td>False</td>\n",
       "    </tr>\n",
       "    <tr>\n",
       "      <th>3</th>\n",
       "      <td>2013-01-04</td>\n",
       "      <td>1</td>\n",
       "      <td>1</td>\n",
       "      <td>13</td>\n",
       "      <td>2013</td>\n",
       "      <td>1</td>\n",
       "      <td>4</td>\n",
       "      <td>4</td>\n",
       "      <td>False</td>\n",
       "    </tr>\n",
       "    <tr>\n",
       "      <th>4</th>\n",
       "      <td>2013-01-05</td>\n",
       "      <td>1</td>\n",
       "      <td>1</td>\n",
       "      <td>10</td>\n",
       "      <td>2013</td>\n",
       "      <td>1</td>\n",
       "      <td>5</td>\n",
       "      <td>5</td>\n",
       "      <td>True</td>\n",
       "    </tr>\n",
       "  </tbody>\n",
       "</table>\n",
       "</div>"
      ],
      "text/plain": [
       "        date  store  item  sales  year  month  day  weekday  weekend\n",
       "0 2013-01-01      1     1     13  2013      1    1        1    False\n",
       "1 2013-01-02      1     1     11  2013      1    2        2    False\n",
       "2 2013-01-03      1     1     14  2013      1    3        3    False\n",
       "3 2013-01-04      1     1     13  2013      1    4        4    False\n",
       "4 2013-01-05      1     1     10  2013      1    5        5     True"
      ]
     },
     "execution_count": 8,
     "metadata": {},
     "output_type": "execute_result"
    }
   ],
   "source": [
    "item_train_set.head()"
   ]
  },
  {
   "cell_type": "code",
   "execution_count": 9,
   "metadata": {},
   "outputs": [
    {
     "data": {
      "text/html": [
       "<div>\n",
       "<style scoped>\n",
       "    .dataframe tbody tr th:only-of-type {\n",
       "        vertical-align: middle;\n",
       "    }\n",
       "\n",
       "    .dataframe tbody tr th {\n",
       "        vertical-align: top;\n",
       "    }\n",
       "\n",
       "    .dataframe thead th {\n",
       "        text-align: right;\n",
       "    }\n",
       "</style>\n",
       "<table border=\"1\" class=\"dataframe\">\n",
       "  <thead>\n",
       "    <tr style=\"text-align: right;\">\n",
       "      <th></th>\n",
       "      <th>date</th>\n",
       "      <th>store</th>\n",
       "      <th>item</th>\n",
       "      <th>sales</th>\n",
       "      <th>year</th>\n",
       "      <th>month</th>\n",
       "      <th>day</th>\n",
       "      <th>weekday</th>\n",
       "      <th>weekend</th>\n",
       "    </tr>\n",
       "  </thead>\n",
       "  <tbody>\n",
       "    <tr>\n",
       "      <th>1461</th>\n",
       "      <td>2017-01-01</td>\n",
       "      <td>1</td>\n",
       "      <td>1</td>\n",
       "      <td>19</td>\n",
       "      <td>2017</td>\n",
       "      <td>1</td>\n",
       "      <td>1</td>\n",
       "      <td>6</td>\n",
       "      <td>True</td>\n",
       "    </tr>\n",
       "    <tr>\n",
       "      <th>1462</th>\n",
       "      <td>2017-01-02</td>\n",
       "      <td>1</td>\n",
       "      <td>1</td>\n",
       "      <td>15</td>\n",
       "      <td>2017</td>\n",
       "      <td>1</td>\n",
       "      <td>2</td>\n",
       "      <td>0</td>\n",
       "      <td>False</td>\n",
       "    </tr>\n",
       "    <tr>\n",
       "      <th>1463</th>\n",
       "      <td>2017-01-03</td>\n",
       "      <td>1</td>\n",
       "      <td>1</td>\n",
       "      <td>10</td>\n",
       "      <td>2017</td>\n",
       "      <td>1</td>\n",
       "      <td>3</td>\n",
       "      <td>1</td>\n",
       "      <td>False</td>\n",
       "    </tr>\n",
       "    <tr>\n",
       "      <th>1464</th>\n",
       "      <td>2017-01-04</td>\n",
       "      <td>1</td>\n",
       "      <td>1</td>\n",
       "      <td>16</td>\n",
       "      <td>2017</td>\n",
       "      <td>1</td>\n",
       "      <td>4</td>\n",
       "      <td>2</td>\n",
       "      <td>False</td>\n",
       "    </tr>\n",
       "    <tr>\n",
       "      <th>1465</th>\n",
       "      <td>2017-01-05</td>\n",
       "      <td>1</td>\n",
       "      <td>1</td>\n",
       "      <td>14</td>\n",
       "      <td>2017</td>\n",
       "      <td>1</td>\n",
       "      <td>5</td>\n",
       "      <td>3</td>\n",
       "      <td>False</td>\n",
       "    </tr>\n",
       "  </tbody>\n",
       "</table>\n",
       "</div>"
      ],
      "text/plain": [
       "           date  store  item  sales  year  month  day  weekday  weekend\n",
       "1461 2017-01-01      1     1     19  2017      1    1        6     True\n",
       "1462 2017-01-02      1     1     15  2017      1    2        0    False\n",
       "1463 2017-01-03      1     1     10  2017      1    3        1    False\n",
       "1464 2017-01-04      1     1     16  2017      1    4        2    False\n",
       "1465 2017-01-05      1     1     14  2017      1    5        3    False"
      ]
     },
     "execution_count": 9,
     "metadata": {},
     "output_type": "execute_result"
    }
   ],
   "source": [
    "item_test_set.head()"
   ]
  },
  {
   "cell_type": "markdown",
   "metadata": {},
   "source": [
    "## The data behavior"
   ]
  },
  {
   "cell_type": "markdown",
   "metadata": {},
   "source": [
    "One of the most important analyses of time series data is to detect if the subject series is stationary or not, if not further transformations are required to remove trend and seasonality of the series, this analysis is even more important using statistic based models. Many authors of papers that use neural networks (NN) for time series defend that using this kind of machine learning model does not necessarily require the data to be already stationary. Although, is important to know if the data is stationary even if the model selected is a NN, because if the model does not converges well this could be a cause and know the properties of the series is highly valuable as well.\n",
    "\n",
    "[1] Define a weak stationary time series if the mean function $ E[x(t)] $ is independent of $ t $, if the autocoraviation function $Cov (x(t+h), x(t))$ is independent of $ t $ for each $h$ and if $E[x^2[n]]$ is finite for each $n$.\n",
    "\n",
    "To perform the weak stationary test, the mean function and the autocovariation function ware applied over rolling windows, since its sampled data. Thus, the window size has an impact over the functions interpretations, the window represents the interval in which the stationary hypothesis is tested.\n",
    "\n",
    "Besides this definition, the $ statsmodels $ library has the Augmented Dickey-Fuller unit root test. The Augmented Dickey-Fuller test can be used to test for a unit root in a univariate process in the presence of serial correlation.\n",
    "\n",
    "References\n",
    "[1] Brockwell, Peter J., and Richard A. Davis. Introduction to time series and forecasting. springer, 2016."
   ]
  },
  {
   "cell_type": "code",
   "execution_count": 10,
   "metadata": {},
   "outputs": [],
   "source": [
    "def stationary_test(entry,delta=200,ad=False,std=False):\n",
    "    window_size=int(len(entry)/15)\n",
    "    # Weak stationary test\n",
    "    # Mean function\n",
    "    mean_y = []\n",
    "    mean_x = []\n",
    "    \n",
    "    s_moment_y = []\n",
    "    std_y = []\n",
    "    n_data = len(entry)\n",
    "    for i in range(0, int(n_data - window_size)):\n",
    "        # Roling window start and end\n",
    "        n_start = i\n",
    "        n_end = n_start + window_size\n",
    "        # Mean, standard deviation and second moment calculation\n",
    "        mean_y_i = np.mean(entry[n_start:n_end])\n",
    "        s_moment_y_i = moment(entry[n_start:n_end],moment=2)\n",
    "        std_y_i = np.std(entry[n_start:n_end])\n",
    "        # Saving the results \n",
    "        mean_y.append(mean_y_i)\n",
    "        mean_x.append(n_end)\n",
    "        s_moment_y.append(s_moment_y_i)\n",
    "        std_y.append(std_y_i)\n",
    "\n",
    "    # Autocovariance function\n",
    "    acov_y = []\n",
    "    acov_x = []\n",
    "    n_data = len(entry)\n",
    "    for i in range(0, int(n_data - window_size - delta)):\n",
    "        n_start = i\n",
    "        n_end = n_start + window_size\n",
    "        acov_y_i = np.cov(\n",
    "            entry[n_start:n_end], entry[n_start+delta:n_end+delta]\n",
    "        )[0][0]\n",
    "        acov_y.append(acov_y_i)\n",
    "        acov_x.append(n_end)\n",
    "    if(ad):\n",
    "        result = adfuller(entry)\n",
    "        print(\"ADF Statistic: %f\" % result[0])\n",
    "        print(\"p-value: {0}\".format(result[1]))\n",
    "        print(\"Critical Values:\")\n",
    "        for key, value in result[4].items():\n",
    "            print(\"\\t%s: %.3f\" % (key, value))\n",
    "        # if the p-value < 0.05  and the adf statistic is less than\n",
    "        # critical values the series is stationary or is time independent\n",
    "        \n",
    "    return [mean_x,mean_y],[acov_x,acov_y], s_moment_y, std_y"
   ]
  },
  {
   "cell_type": "code",
   "execution_count": 11,
   "metadata": {},
   "outputs": [
    {
     "data": {
      "text/plain": [
       "<AxesSubplot:xlabel='date'>"
      ]
     },
     "execution_count": 11,
     "metadata": {},
     "output_type": "execute_result"
    },
    {
     "data": {
      "image/png": "[encoded data removed]",
      "text/plain": [
       "<Figure size 432x288 with 1 Axes>"
      ]
     },
     "metadata": {
      "needs_background": "light"
     },
     "output_type": "display_data"
    }
   ],
   "source": [
    "item_train_set.plot(x='date', y='sales')"
   ]
  },
  {
   "cell_type": "code",
   "execution_count": 12,
   "metadata": {},
   "outputs": [
    {
     "data": {
      "image/png": "[encoded data removed]",
      "text/plain": [
       "<Figure size 432x288 with 1 Axes>"
      ]
     },
     "metadata": {
      "needs_background": "light"
     },
     "output_type": "display_data"
    }
   ],
   "source": [
    "pd.plotting.autocorrelation_plot(item_train_set['sales'])\n",
    "plt.show()"
   ]
  },
  {
   "cell_type": "code",
   "execution_count": 13,
   "metadata": {
    "tags": []
   },
   "outputs": [
    {
     "name": "stdout",
     "output_type": "stream",
     "text": [
      "ADF Statistic: -2.819719\n",
      "p-value: 0.05551174940647831\n",
      "Critical Values:\n",
      "\t1%: -3.435\n",
      "\t5%: -2.864\n",
      "\t10%: -2.568\n"
     ]
    },
    {
     "data": {
      "image/png": "[encoded data removed]",
      "text/plain": [
       "<Figure size 432x288 with 1 Axes>"
      ]
     },
     "metadata": {
      "needs_background": "light"
     },
     "output_type": "display_data"
    },
    {
     "data": {
      "image/png": "[encoded data removed]",
      "text/plain": [
       "<Figure size 432x288 with 1 Axes>"
      ]
     },
     "metadata": {
      "needs_background": "light"
     },
     "output_type": "display_data"
    },
    {
     "data": {
      "image/png": "[encoded data removed]",
      "text/plain": [
       "<Figure size 432x288 with 1 Axes>"
      ]
     },
     "metadata": {
      "needs_background": "light"
     },
     "output_type": "display_data"
    },
    {
     "data": {
      "image/png": "[encoded data removed]",
      "text/plain": [
       "<Figure size 432x288 with 1 Axes>"
      ]
     },
     "metadata": {
      "needs_background": "light"
     },
     "output_type": "display_data"
    }
   ],
   "source": [
    "# Weak stationary test\n",
    "sales_train = item_train_set['sales'].to_numpy()\n",
    "\n",
    "mean, cov, s_moment, std = stationary_test(sales_train, delta=20,ad=True) \n",
    "\n",
    "plt.figure()\n",
    "plt.subplot()\n",
    "plt.plot(sales_train, \"b\", label=\"Sales\")\n",
    "plt.plot(mean[0], mean[1], \"r\", label=\"Mean function\")\n",
    "plt.xlabel(\"Samples\")\n",
    "plt.ylabel(\"Amount of sales\")\n",
    "plt.grid('on')\n",
    "plt.legend()\n",
    "plt.show()\n",
    "\n",
    "plt.figure()\n",
    "plt.plot(sales_train, \"b\", label=\"Sales\")\n",
    "plt.plot(cov[0], cov[1], \"g\", label=\"autocovariance function\")\n",
    "plt.xlabel(\"samples index\")\n",
    "plt.ylabel(\"Covariance (ppb)\")\n",
    "plt.title(\"ACF da intensity of the price_test\")\n",
    "plt.legend()\n",
    "plt.show()\n",
    "\n",
    "plt.figure()\n",
    "plt.plot(sales_train, \"b\", label=\"Sales\")\n",
    "plt.plot(mean[0], std, \"g\", label=\"standard deviation function\")\n",
    "plt.xlabel(\"samples index\")\n",
    "plt.ylabel(\"Amount of sales\")\n",
    "plt.title(\"Standard deviation function\")\n",
    "plt.legend()\n",
    "plt.show()\n",
    "\n",
    "plt.figure()\n",
    "plt.plot(sales_train, \"b\", label=\"Sales\")\n",
    "plt.plot(mean[0], s_moment, \"g\", label=\"Second moment function\")\n",
    "plt.xlabel(\"samples index\")\n",
    "plt.ylabel(\"Amount of sales\")\n",
    "plt.title(\"Second moment function\")\n",
    "plt.legend()\n",
    "plt.show()"
   ]
  },
  {
   "cell_type": "markdown",
   "metadata": {},
   "source": [
    "## Analyzing the test results\n",
    "The mean function test hypothesis failed, this can be noted by checking the function follows the trend and seasonlity of the sales series, the covariation function presents a linear behavior with a lot of disturbance, the standard deviation function seans to be linear like, but with a lot of noise. The second-moment function doesn't show a tendency to infinite on any $n$, that way passing on this condition.\n",
    "\n",
    "Analyzing the functions plots it's correct to infer that this series of sales is non-stationary, this can be also noted on the autocorrelation plot, which shows a slow decaying behavior.the autocorrelation plot shows also a periodic behavior, which represents a periodic behavior on the time series, and also in several lags the ACF value goes above and bellow the confidence intervals of 99% and 95%\n",
    "\n",
    "Besides the week sationary test, theAugmented Dickey-Fuller test can be done to check if the series of sales is stationary or not. This test checks if the series have a unit root and doing so it can make the assumption of how much the series is defined by it's trend.\n",
    "\n",
    "There are 2 Hypothesis:\n",
    "\n",
    "Null Hypothesis (H0): If failed to be rejected, it suggests the time series has a unit root, meaning it is non-stationary. It has some time dependent structure.\n",
    "\n",
    "Alternate Hypothesis (H1): The null hypothesis is rejected; it suggests the time series does not have a unit root, meaning it is stationary. It does not have time-dependent structure.\n",
    "\n",
    "We interpret this result using the p-value from the test. A p-value below a threshold (such as 5% or 1%) suggests we reject the null hypothesis (stationary), otherwise a p-value above the threshold suggests we fail to reject the null hypothesis (non-stationary).\n",
    "\n",
    "p-value > 0.05: Fail to reject the null hypothesis (H0), the data has a unit root and is non-stationary.\n",
    "p-value <= 0.05: Reject the null hypothesis (H0), the data does not have a unit root and is stationary.\n",
    "\n",
    "Since the p-value of the test value applied to the series is bigger than 0.05, the null hypothesis is rejected, thus the series is non-stationary\n"
   ]
  },
  {
   "cell_type": "markdown",
   "metadata": {},
   "source": [
    "## Using Neural networks for solving the time series problem\n",
    "First, it is necessary to transform this time series problem into a supervised learning problem; for this, it is necessary to define whether the network will make a recursive forecast, in which the forecasts will be used as resources for a longer time horizon or if the network will make a direct forecast, in which the network only uses the last steps of time and resources known as the day of the week, to forecast several steps.\n",
    "\n",
    "### Direct prediction approach\n",
    "To predict the 3 months of sales is necessary to define first the labels and features of the model, as features the model will use 3 months of past sales data and the 3 months of weekdays value. As labels would be 3 months of the future data, to extrat the labels and features of the data a rolling window approach is reaquired, this way a window of 3 months past data, 3 months of weekdays value could be related to 3 months of future data"
   ]
  },
  {
   "cell_type": "markdown",
   "metadata": {},
   "source": [
    "## Rolling window approach\n",
    "\n",
    "With this approach is possible to turn a series of data into a supervised learning problem, this way the model can intepretate the problem properly."
   ]
  },
  {
   "cell_type": "code",
   "execution_count": 14,
   "metadata": {},
   "outputs": [],
   "source": [
    "# Scaling the entry data\n",
    "sales_train   = item_train_set['sales'].to_numpy()\n",
    "sales_train   = sales_train.reshape(len(sales_train),1)\n",
    "scaler        = MinMaxScaler(feature_range=(-1, 1))\n",
    "scaler.fit(sales_train)\n",
    "sales_train   = scaler.transform(sales_train).flatten()\n",
    "\n",
    "\n",
    "index_val     = np.arange(len(sales_train))\n",
    "\n",
    "# Three months of prediction\n",
    "pred_horizon = 30\n",
    "label_win = 30\n",
    "feat_win  = 30\n",
    "win_size  = label_win + feat_win\n",
    "n_windows = len(sales_train) - win_size"
   ]
  },
  {
   "cell_type": "code",
   "execution_count": 15,
   "metadata": {},
   "outputs": [],
   "source": [
    "def rolling_window(n_windows, feat_win, label_win, dataset):\n",
    "    x_train = np.zeros((n_windows, int(feat_win + label_win)))\n",
    "    x_id = np.zeros((n_windows, int(feat_win + label_win)))\n",
    "    y_train = np.zeros((n_windows, feat_win + label_win))\n",
    "    y_id = np.zeros((n_windows, feat_win + label_win))\n",
    "    for win in range(n_windows):\n",
    "        # Feature window start and end index\n",
    "        i_s = win\n",
    "        i_e = win + feat_win + label_win\n",
    "\n",
    "        # Geting the past sales feature\n",
    "        x_train[win][:feat_win] = dataset[i_s: i_e-label_win]\n",
    "        x_id[win][:feat_win] = index_val[i_s: i_e-label_win]\n",
    "\n",
    "        # Geting the weekdays feature\n",
    "        # x_train[win][feat_win:] = weekday_train[i_s_label : i_e_label]\n",
    "\n",
    "        # Since we want the weekdays to be corralated to the label values\n",
    "        # the window of weekdays value that we will use will be the label's\n",
    "        # weekday. This makes sense taking in count that we know the weekdays\n",
    "        # beforehand\n",
    "\n",
    "        # Geting the labels\n",
    "        y_train[win] = dataset[i_s : i_e]\n",
    "        y_id[win] = index_val[i_s : i_e]\n",
    "    \n",
    "    return x_train, x_id, y_train, y_id"
   ]
  },
  {
   "cell_type": "code",
   "execution_count": 16,
   "metadata": {},
   "outputs": [],
   "source": [
    "x_train, x_id, y_train, y_id = rolling_window(n_windows, feat_win, label_win, sales_train)"
   ]
  },
  {
   "cell_type": "code",
   "execution_count": 17,
   "metadata": {},
   "outputs": [
    {
     "data": {
      "text/plain": [
       "array([ 0.,  1.,  2.,  3.,  4.,  5.,  6.,  7.,  8.,  9., 10., 11., 12.,\n",
       "       13., 14., 15., 16., 17., 18., 19., 20., 21., 22., 23., 24., 25.,\n",
       "       26., 27., 28., 29., 30., 31., 32., 33., 34., 35., 36., 37., 38.,\n",
       "       39., 40., 41., 42., 43., 44., 45., 46., 47., 48., 49., 50., 51.,\n",
       "       52., 53., 54., 55., 56., 57., 58., 59.])"
      ]
     },
     "execution_count": 17,
     "metadata": {},
     "output_type": "execute_result"
    }
   ],
   "source": [
    "y_id[0]"
   ]
  },
  {
   "cell_type": "code",
   "execution_count": 18,
   "metadata": {},
   "outputs": [
    {
     "data": {
      "text/plain": [
       "array([ 0.,  1.,  2.,  3.,  4.,  5.,  6.,  7.,  8.,  9., 10., 11., 12.,\n",
       "       13., 14., 15., 16., 17., 18., 19., 20., 21., 22., 23., 24., 25.,\n",
       "       26., 27., 28., 29.,  0.,  0.,  0.,  0.,  0.,  0.,  0.,  0.,  0.,\n",
       "        0.,  0.,  0.,  0.,  0.,  0.,  0.,  0.,  0.,  0.,  0.,  0.,  0.,\n",
       "        0.,  0.,  0.,  0.,  0.,  0.,  0.,  0.])"
      ]
     },
     "execution_count": 18,
     "metadata": {},
     "output_type": "execute_result"
    }
   ],
   "source": [
    "x_id[0]"
   ]
  },
  {
   "cell_type": "code",
   "execution_count": 19,
   "metadata": {},
   "outputs": [
    {
     "data": {
      "image/png": "[encoded data removed]",
      "text/plain": [
       "<Figure size 432x288 with 1 Axes>"
      ]
     },
     "metadata": {
      "needs_background": "light"
     },
     "output_type": "display_data"
    },
    {
     "data": {
      "image/png": "[encoded data removed]",
      "text/plain": [
       "<Figure size 432x288 with 1 Axes>"
      ]
     },
     "metadata": {
      "needs_background": "light"
     },
     "output_type": "display_data"
    }
   ],
   "source": [
    "plt.plot(x_train[0], label='features')\n",
    "plt.ylabel('Normalized value')\n",
    "plt.xlabel('Feature window index')\n",
    "plt.title(\"One sample of the model's features\")\n",
    "plt.show()\n",
    "\n",
    "plt.plot(y_train[0], label='labels')\n",
    "plt.ylabel('Sales amount')\n",
    "plt.xlabel('label index')\n",
    "plt.title(\"One sample of the model's Labels\")\n",
    "plt.show()\n"
   ]
  },
  {
   "cell_type": "markdown",
   "metadata": {},
   "source": [
    "## Before define the model we should first define our random seeds to generate reproducible results"
   ]
  },
  {
   "cell_type": "code",
   "execution_count": 20,
   "metadata": {},
   "outputs": [],
   "source": [
    "def seed_torch(seed=1029):\n",
    "    random.seed(seed)\n",
    "    os.environ['PYTHONHASHSEED'] = str(seed)\n",
    "    np.random.seed(seed)\n",
    "    torch.manual_seed(seed)\n",
    "    torch.cuda.manual_seed(seed)\n",
    "    torch.backends.cudnn.deterministic = True"
   ]
  },
  {
   "cell_type": "code",
   "execution_count": 21,
   "metadata": {},
   "outputs": [],
   "source": [
    "# Select an arbitrary seed\n",
    "seed_torch(42)"
   ]
  },
  {
   "cell_type": "markdown",
   "metadata": {},
   "source": [
    "## Lets now create our test set"
   ]
  },
  {
   "cell_type": "code",
   "execution_count": 22,
   "metadata": {},
   "outputs": [],
   "source": [
    "sales_test = item_test_set['sales'][:pred_horizon].to_numpy()\n",
    "sales_test   = sales_test.reshape(len(sales_test),1)\n",
    "sales_test   = scaler.transform(sales_test).flatten()\n",
    "dates = item_test_set['date'][:label_win].to_numpy()\n",
    "\n",
    "entry_test = np.zeros(int(feat_win+label_win))\n",
    "entry_test[:feat_win] = sales_train[-feat_win:]\n",
    "\n",
    "label_test = np.zeros(int(feat_win+label_win))\n",
    "label_test[:feat_win] = sales_train[-feat_win:]\n",
    "\n",
    "label_test[feat_win:] = sales_test[:label_win]"
   ]
  },
  {
   "cell_type": "markdown",
   "metadata": {},
   "source": [
    "## Defining the model\n",
    "The recommended neural network for a time series problem usualy is a LSTM, in this example peharps we will use a simple multi layer perceptron (MLP) model."
   ]
  },
  {
   "cell_type": "markdown",
   "metadata": {},
   "source": [
    "## Transformer network"
   ]
  },
  {
   "cell_type": "code",
   "execution_count": 23,
   "metadata": {},
   "outputs": [
    {
     "name": "stdout",
     "output_type": "stream",
     "text": [
      "Using device: cuda\n"
     ]
    }
   ],
   "source": [
    "device = torch.device('cuda' if torch.cuda.is_available() else 'cpu')\n",
    "print('Using device:', device)\n",
    "model = TransformerTimeSeries(device, dropout=0.4, d_model=64, \n",
    "                              encoder_mask=True, \n",
    "                              nhead=4, \n",
    "                              encoder_only=True,\n",
    "                              output_vector_sz=1,\n",
    "                              iterative=False,\n",
    "                              n_encoder_time_steps=feat_win+label_win,\n",
    "                              n_input_time_steps=feat_win,\n",
    "                              n_enc_layers=2\n",
    "                             ).to(device)\n",
    "\n",
    "criterion = nn.MSELoss()\n",
    "lr = 0.005\n",
    "batch_size= 60\n",
    "epochs = 30\n",
    "optimizer = torch.optim.AdamW(model.parameters(), lr=lr)\n",
    "scheduler = torch.optim.lr_scheduler.StepLR(optimizer, 1.0, gamma=0.98)"
   ]
  },
  {
   "cell_type": "code",
   "execution_count": 24,
   "metadata": {},
   "outputs": [
    {
     "data": {
      "text/plain": [
       "60"
      ]
     },
     "execution_count": 24,
     "metadata": {},
     "output_type": "execute_result"
    }
   ],
   "source": [
    "x_train.shape[1]"
   ]
  },
  {
   "cell_type": "code",
   "execution_count": 25,
   "metadata": {},
   "outputs": [],
   "source": [
    "train_set = TransformerSet(x_train, y_train, x_train.shape[1], encoder_only=True)\n",
    "test_set  = TransformerSet(np.array([entry_test]),np.array([label_test]), x_train.shape[1], encoder_only=True)\n",
    "\n",
    "train_loader = DataLoader(train_set,\n",
    "                          batch_size=batch_size,\n",
    "                          shuffle=True)\n",
    "test_loader = DataLoader(test_set,\n",
    "                          batch_size=batch_size,\n",
    "                          shuffle=False)"
   ]
  },
  {
   "cell_type": "code",
   "execution_count": 26,
   "metadata": {},
   "outputs": [
    {
     "name": "stderr",
     "output_type": "stream",
     "text": [
      "/home/rodrigo/home-hd/Anaconda/envs/pytorch/lib/python3.8/site-packages/torch/optim/lr_scheduler.py:369: UserWarning: To get the last learning rate computed by the scheduler, please use `get_last_lr()`.\n",
      "  warnings.warn(\"To get the last learning rate computed by the scheduler, \"\n"
     ]
    },
    {
     "name": "stdout",
     "output_type": "stream",
     "text": [
      "| epoch   1 |     4/   23 batches | lr 0.005000 | 137.52 ms | loss 2.10748\n",
      "| epoch   1 |     8/   23 batches | lr 0.005000 | 58.31 ms | loss 0.26567\n",
      "| epoch   1 |    12/   23 batches | lr 0.005000 | 52.16 ms | loss 0.13304\n",
      "| epoch   1 |    16/   23 batches | lr 0.005000 | 53.49 ms | loss 0.13725\n",
      "| epoch   1 |    20/   23 batches | lr 0.005000 | 58.23 ms | loss 0.13155\n",
      "| epoch   2 |     4/   23 batches | lr 0.004802 | 72.43 ms | loss 0.15559\n",
      "| epoch   2 |     8/   23 batches | lr 0.004802 | 76.27 ms | loss 0.12278\n",
      "| epoch   2 |    12/   23 batches | lr 0.004802 | 145.73 ms | loss 0.11699\n",
      "| epoch   2 |    16/   23 batches | lr 0.004802 | 62.70 ms | loss 0.12330\n",
      "| epoch   2 |    20/   23 batches | lr 0.004802 | 63.11 ms | loss 0.11984\n",
      "| epoch   3 |     4/   23 batches | lr 0.004706 | 112.87 ms | loss 0.14659\n",
      "| epoch   3 |     8/   23 batches | lr 0.004706 | 128.20 ms | loss 0.11846\n",
      "| epoch   3 |    12/   23 batches | lr 0.004706 | 179.97 ms | loss 0.11331\n",
      "| epoch   3 |    16/   23 batches | lr 0.004706 | 199.90 ms | loss 0.11713\n",
      "| epoch   3 |    20/   23 batches | lr 0.004706 | 199.35 ms | loss 0.11906\n",
      "| epoch   4 |     4/   23 batches | lr 0.004612 | 254.43 ms | loss 0.14675\n",
      "| epoch   4 |     8/   23 batches | lr 0.004612 | 208.20 ms | loss 0.11321\n",
      "| epoch   4 |    12/   23 batches | lr 0.004612 | 200.44 ms | loss 0.11710\n",
      "| epoch   4 |    16/   23 batches | lr 0.004612 | 200.42 ms | loss 0.11373\n",
      "| epoch   4 |    20/   23 batches | lr 0.004612 | 206.81 ms | loss 0.11918\n",
      "| epoch   5 |     4/   23 batches | lr 0.004520 | 246.17 ms | loss 0.14350\n",
      "| epoch   5 |     8/   23 batches | lr 0.004520 | 195.08 ms | loss 0.11734\n",
      "| epoch   5 |    12/   23 batches | lr 0.004520 | 181.14 ms | loss 0.11609\n",
      "| epoch   5 |    16/   23 batches | lr 0.004520 | 199.59 ms | loss 0.11158\n",
      "| epoch   5 |    20/   23 batches | lr 0.004520 | 198.96 ms | loss 0.11208\n",
      "| epoch   6 |     4/   23 batches | lr 0.004429 | 249.06 ms | loss 0.14361\n",
      "| epoch   6 |     8/   23 batches | lr 0.004429 | 188.38 ms | loss 0.11208\n",
      "| epoch   6 |    12/   23 batches | lr 0.004429 | 192.89 ms | loss 0.11066\n",
      "| epoch   6 |    16/   23 batches | lr 0.004429 | 200.71 ms | loss 0.11574\n",
      "| epoch   6 |    20/   23 batches | lr 0.004429 | 202.08 ms | loss 0.11676\n",
      "| epoch   7 |     4/   23 batches | lr 0.004341 | 251.54 ms | loss 0.13975\n",
      "| epoch   7 |     8/   23 batches | lr 0.004341 | 211.10 ms | loss 0.11271\n",
      "| epoch   7 |    12/   23 batches | lr 0.004341 | 205.13 ms | loss 0.11623\n",
      "| epoch   7 |    16/   23 batches | lr 0.004341 | 209.11 ms | loss 0.11791\n",
      "| epoch   7 |    20/   23 batches | lr 0.004341 | 207.20 ms | loss 0.11218\n",
      "| epoch   8 |     4/   23 batches | lr 0.004254 | 208.53 ms | loss 0.13638\n",
      "| epoch   8 |     8/   23 batches | lr 0.004254 | 118.80 ms | loss 0.11246\n",
      "| epoch   8 |    12/   23 batches | lr 0.004254 | 65.86 ms | loss 0.11101\n",
      "| epoch   8 |    16/   23 batches | lr 0.004254 | 91.35 ms | loss 0.11069\n",
      "| epoch   8 |    20/   23 batches | lr 0.004254 | 119.22 ms | loss 0.10311\n",
      "| epoch   9 |     4/   23 batches | lr 0.004169 | 71.45 ms | loss 0.10912\n",
      "| epoch   9 |     8/   23 batches | lr 0.004169 | 52.27 ms | loss 0.08798\n",
      "| epoch   9 |    12/   23 batches | lr 0.004169 | 62.33 ms | loss 0.08054\n",
      "| epoch   9 |    16/   23 batches | lr 0.004169 | 53.05 ms | loss 0.07632\n",
      "| epoch   9 |    20/   23 batches | lr 0.004169 | 60.45 ms | loss 0.07364\n",
      "| epoch  10 |     4/   23 batches | lr 0.004085 | 72.46 ms | loss 0.08862\n",
      "| epoch  10 |     8/   23 batches | lr 0.004085 | 58.64 ms | loss 0.06762\n",
      "| epoch  10 |    12/   23 batches | lr 0.004085 | 117.44 ms | loss 0.06476\n",
      "| epoch  10 |    16/   23 batches | lr 0.004085 | 111.31 ms | loss 0.06048\n",
      "| epoch  10 |    20/   23 batches | lr 0.004085 | 52.44 ms | loss 0.06137\n",
      "| epoch  11 |     4/   23 batches | lr 0.004004 | 68.72 ms | loss 0.07539\n",
      "| epoch  11 |     8/   23 batches | lr 0.004004 | 52.52 ms | loss 0.05729\n",
      "| epoch  11 |    12/   23 batches | lr 0.004004 | 57.90 ms | loss 0.05939\n",
      "| epoch  11 |    16/   23 batches | lr 0.004004 | 56.65 ms | loss 0.05781\n",
      "| epoch  11 |    20/   23 batches | lr 0.004004 | 55.82 ms | loss 0.05686\n",
      "| epoch  12 |     4/   23 batches | lr 0.003924 | 70.28 ms | loss 0.07013\n",
      "| epoch  12 |     8/   23 batches | lr 0.003924 | 53.88 ms | loss 0.05515\n",
      "| epoch  12 |    12/   23 batches | lr 0.003924 | 56.25 ms | loss 0.05495\n",
      "| epoch  12 |    16/   23 batches | lr 0.003924 | 56.12 ms | loss 0.05459\n",
      "| epoch  12 |    20/   23 batches | lr 0.003924 | 56.20 ms | loss 0.05545\n",
      "| epoch  13 |     4/   23 batches | lr 0.003845 | 71.74 ms | loss 0.06740\n",
      "| epoch  13 |     8/   23 batches | lr 0.003845 | 52.32 ms | loss 0.05123\n",
      "| epoch  13 |    12/   23 batches | lr 0.003845 | 56.04 ms | loss 0.05248\n",
      "| epoch  13 |    16/   23 batches | lr 0.003845 | 55.81 ms | loss 0.05225\n",
      "| epoch  13 |    20/   23 batches | lr 0.003845 | 57.79 ms | loss 0.05217\n",
      "| epoch  14 |     4/   23 batches | lr 0.003768 | 68.84 ms | loss 0.06400\n",
      "| epoch  14 |     8/   23 batches | lr 0.003768 | 53.78 ms | loss 0.05289\n",
      "| epoch  14 |    12/   23 batches | lr 0.003768 | 59.83 ms | loss 0.05121\n",
      "| epoch  14 |    16/   23 batches | lr 0.003768 | 53.35 ms | loss 0.05011\n",
      "| epoch  14 |    20/   23 batches | lr 0.003768 | 56.20 ms | loss 0.04934\n",
      "| epoch  15 |     4/   23 batches | lr 0.003693 | 69.17 ms | loss 0.06364\n",
      "| epoch  15 |     8/   23 batches | lr 0.003693 | 53.67 ms | loss 0.05030\n",
      "| epoch  15 |    12/   23 batches | lr 0.003693 | 60.20 ms | loss 0.04988\n",
      "| epoch  15 |    16/   23 batches | lr 0.003693 | 53.67 ms | loss 0.05012\n",
      "| epoch  15 |    20/   23 batches | lr 0.003693 | 56.12 ms | loss 0.04715\n",
      "| epoch  16 |     4/   23 batches | lr 0.003619 | 70.29 ms | loss 0.06124\n",
      "| epoch  16 |     8/   23 batches | lr 0.003619 | 52.38 ms | loss 0.04788\n",
      "| epoch  16 |    12/   23 batches | lr 0.003619 | 55.93 ms | loss 0.04862\n",
      "| epoch  16 |    16/   23 batches | lr 0.003619 | 59.51 ms | loss 0.04879\n",
      "| epoch  16 |    20/   23 batches | lr 0.003619 | 54.86 ms | loss 0.04921\n",
      "| epoch  17 |     4/   23 batches | lr 0.003547 | 68.77 ms | loss 0.05795\n",
      "| epoch  17 |     8/   23 batches | lr 0.003547 | 52.40 ms | loss 0.04818\n",
      "| epoch  17 |    12/   23 batches | lr 0.003547 | 56.19 ms | loss 0.04845\n",
      "| epoch  17 |    16/   23 batches | lr 0.003547 | 57.11 ms | loss 0.04904\n",
      "| epoch  17 |    20/   23 batches | lr 0.003547 | 59.71 ms | loss 0.04874\n",
      "| epoch  18 |     4/   23 batches | lr 0.003476 | 68.99 ms | loss 0.06112\n",
      "| epoch  18 |     8/   23 batches | lr 0.003476 | 53.63 ms | loss 0.04821\n",
      "| epoch  18 |    12/   23 batches | lr 0.003476 | 55.89 ms | loss 0.04926\n",
      "| epoch  18 |    16/   23 batches | lr 0.003476 | 55.92 ms | loss 0.04828\n",
      "| epoch  18 |    20/   23 batches | lr 0.003476 | 55.82 ms | loss 0.05123\n",
      "| epoch  19 |     4/   23 batches | lr 0.003406 | 70.36 ms | loss 0.06100\n",
      "| epoch  19 |     8/   23 batches | lr 0.003406 | 52.97 ms | loss 0.04610\n",
      "| epoch  19 |    12/   23 batches | lr 0.003406 | 56.32 ms | loss 0.04838\n",
      "| epoch  19 |    16/   23 batches | lr 0.003406 | 55.46 ms | loss 0.04737\n",
      "| epoch  19 |    20/   23 batches | lr 0.003406 | 56.96 ms | loss 0.04555\n",
      "| epoch  20 |     4/   23 batches | lr 0.003338 | 70.08 ms | loss 0.05939\n",
      "| epoch  20 |     8/   23 batches | lr 0.003338 | 52.39 ms | loss 0.04657\n",
      "| epoch  20 |    12/   23 batches | lr 0.003338 | 55.96 ms | loss 0.04720\n",
      "| epoch  20 |    16/   23 batches | lr 0.003338 | 60.03 ms | loss 0.04514\n",
      "| epoch  20 |    20/   23 batches | lr 0.003338 | 53.30 ms | loss 0.04772\n",
      "| epoch  21 |     4/   23 batches | lr 0.003271 | 70.12 ms | loss 0.05764\n",
      "| epoch  21 |     8/   23 batches | lr 0.003271 | 52.35 ms | loss 0.04857\n",
      "| epoch  21 |    12/   23 batches | lr 0.003271 | 56.38 ms | loss 0.04800\n",
      "| epoch  21 |    16/   23 batches | lr 0.003271 | 55.76 ms | loss 0.04481\n",
      "| epoch  21 |    20/   23 batches | lr 0.003271 | 56.03 ms | loss 0.04737\n",
      "| epoch  22 |     4/   23 batches | lr 0.003206 | 70.28 ms | loss 0.05512\n",
      "| epoch  22 |     8/   23 batches | lr 0.003206 | 52.93 ms | loss 0.04726\n",
      "| epoch  22 |    12/   23 batches | lr 0.003206 | 56.13 ms | loss 0.04550\n",
      "| epoch  22 |    16/   23 batches | lr 0.003206 | 55.34 ms | loss 0.04752\n",
      "| epoch  22 |    20/   23 batches | lr 0.003206 | 55.81 ms | loss 0.04543\n",
      "| epoch  23 |     4/   23 batches | lr 0.003142 | 70.04 ms | loss 0.05650\n",
      "| epoch  23 |     8/   23 batches | lr 0.003142 | 52.35 ms | loss 0.04520\n",
      "| epoch  23 |    12/   23 batches | lr 0.003142 | 57.31 ms | loss 0.04449\n",
      "| epoch  23 |    16/   23 batches | lr 0.003142 | 59.68 ms | loss 0.04538\n",
      "| epoch  23 |    20/   23 batches | lr 0.003142 | 53.54 ms | loss 0.04635\n",
      "| epoch  24 |     4/   23 batches | lr 0.003079 | 68.79 ms | loss 0.05584\n",
      "| epoch  24 |     8/   23 batches | lr 0.003079 | 52.38 ms | loss 0.04532\n",
      "| epoch  24 |    12/   23 batches | lr 0.003079 | 57.10 ms | loss 0.04527\n",
      "| epoch  24 |    16/   23 batches | lr 0.003079 | 57.70 ms | loss 0.04449\n",
      "| epoch  24 |    20/   23 batches | lr 0.003079 | 55.92 ms | loss 0.04580\n",
      "| epoch  25 |     4/   23 batches | lr 0.003017 | 69.03 ms | loss 0.05717\n",
      "| epoch  25 |     8/   23 batches | lr 0.003017 | 53.86 ms | loss 0.04339\n",
      "| epoch  25 |    12/   23 batches | lr 0.003017 | 55.98 ms | loss 0.04434\n",
      "| epoch  25 |    16/   23 batches | lr 0.003017 | 56.13 ms | loss 0.04295\n",
      "| epoch  25 |    20/   23 batches | lr 0.003017 | 56.85 ms | loss 0.04426\n",
      "| epoch  26 |     4/   23 batches | lr 0.002957 | 69.11 ms | loss 0.05609\n",
      "| epoch  26 |     8/   23 batches | lr 0.002957 | 52.75 ms | loss 0.04377\n",
      "| epoch  26 |    12/   23 batches | lr 0.002957 | 55.94 ms | loss 0.04470\n",
      "| epoch  26 |    16/   23 batches | lr 0.002957 | 55.95 ms | loss 0.04273\n",
      "| epoch  26 |    20/   23 batches | lr 0.002957 | 59.48 ms | loss 0.04309\n",
      "| epoch  27 |     4/   23 batches | lr 0.002898 | 69.13 ms | loss 0.05454\n",
      "| epoch  27 |     8/   23 batches | lr 0.002898 | 52.38 ms | loss 0.04353\n",
      "| epoch  27 |    12/   23 batches | lr 0.002898 | 57.65 ms | loss 0.04323\n",
      "| epoch  27 |    16/   23 batches | lr 0.002898 | 55.38 ms | loss 0.04370\n",
      "| epoch  27 |    20/   23 batches | lr 0.002898 | 55.98 ms | loss 0.04324\n",
      "| epoch  28 |     4/   23 batches | lr 0.002840 | 70.30 ms | loss 0.05486\n",
      "| epoch  28 |     8/   23 batches | lr 0.002840 | 53.86 ms | loss 0.04253\n",
      "| epoch  28 |    12/   23 batches | lr 0.002840 | 56.19 ms | loss 0.04383\n",
      "| epoch  28 |    16/   23 batches | lr 0.002840 | 55.95 ms | loss 0.04436\n",
      "| epoch  28 |    20/   23 batches | lr 0.002840 | 55.58 ms | loss 0.04451\n",
      "| epoch  29 |     4/   23 batches | lr 0.002783 | 72.00 ms | loss 0.05484\n",
      "| epoch  29 |     8/   23 batches | lr 0.002783 | 52.47 ms | loss 0.04382\n",
      "| epoch  29 |    12/   23 batches | lr 0.002783 | 56.23 ms | loss 0.04317\n",
      "| epoch  29 |    16/   23 batches | lr 0.002783 | 55.59 ms | loss 0.04304\n",
      "| epoch  29 |    20/   23 batches | lr 0.002783 | 57.18 ms | loss 0.04374\n",
      "| epoch  30 |     4/   23 batches | lr 0.002727 | 68.64 ms | loss 0.05504\n",
      "| epoch  30 |     8/   23 batches | lr 0.002727 | 53.83 ms | loss 0.04246\n",
      "| epoch  30 |    12/   23 batches | lr 0.002727 | 56.05 ms | loss 0.04246\n",
      "| epoch  30 |    16/   23 batches | lr 0.002727 | 56.23 ms | loss 0.04246\n",
      "| epoch  30 |    20/   23 batches | lr 0.002727 | 59.38 ms | loss 0.04212\n"
     ]
    }
   ],
   "source": [
    "loss = []\n",
    "val_loss = []\n",
    "for epoch in range(1, epochs + 1):\n",
    "    epoch_start_time = time.time()\n",
    "    epoch_loss = batch_train(model, epoch, batch_size, train_loader, criterion, optimizer, scheduler,  \n",
    "                             y_train.shape[0], \n",
    "                             device, encoder_only=True,)\n",
    "    val_epoch_loss = batch_val(model, test_loader, \n",
    "                               criterion, device, \n",
    "                               encoder_only=True,) \n",
    "    loss.append(epoch_loss)\n",
    "    val_loss.append(val_epoch_loss)\n",
    "    scheduler.step()"
   ]
  },
  {
   "cell_type": "code",
   "execution_count": 27,
   "metadata": {},
   "outputs": [
    {
     "data": {
      "application/vnd.plotly.v1+json": {
       "config": {
        "plotlyServerURL": "https://plot.ly"
       },
       "data": [
        {
         "hovertemplate": "variable=loss<br>epochs=%{x}<br>value=%{y}<extra></extra>",
         "legendgroup": "loss",
         "line": {
          "color": "#636efa",
          "dash": "solid"
         },
         "mode": "lines",
         "name": "loss",
         "orientation": "v",
         "showlegend": true,
         "type": "scatter",
         "x": [
          0,
          1,
          2,
          3,
          4,
          5,
          6,
          7,
          8,
          9,
          10,
          11,
          12,
          13,
          14,
          15,
          16,
          17,
          18,
          19,
          20,
          21,
          22,
          23,
          24,
          25,
          26,
          27,
          28,
          29
         ],
         "xaxis": "x",
         "y": [
          34.33124580234289,
          7.365293450653553,
          7.122340269386768,
          7.063108511269093,
          6.968542568385601,
          6.946616217494011,
          6.90438474714756,
          6.586910210549831,
          4.94971764087677,
          3.994345508515835,
          3.568754870444536,
          3.339147660881281,
          3.1932410523295403,
          3.094974409788847,
          3.0185448974370956,
          2.9851596280932426,
          2.9312745332717896,
          2.9684142731130123,
          2.8750905245542526,
          2.8440391458570957,
          2.843662813305855,
          2.7857681661844254,
          2.749600689858198,
          2.739215448498726,
          2.69670095667243,
          2.6605569384992123,
          2.6839530505239964,
          2.6560963317751884,
          2.633116904646158,
          2.614635307341814
         ],
         "yaxis": "y"
        },
        {
         "hovertemplate": "variable=val_loss<br>epochs=%{x}<br>value=%{y}<extra></extra>",
         "legendgroup": "val_loss",
         "line": {
          "color": "#EF553B",
          "dash": "solid"
         },
         "mode": "lines",
         "name": "val_loss",
         "orientation": "v",
         "showlegend": true,
         "type": "scatter",
         "x": [
          0,
          1,
          2,
          3,
          4,
          5,
          6,
          7,
          8,
          9,
          10,
          11,
          12,
          13,
          14,
          15,
          16,
          17,
          18,
          19,
          20,
          21,
          22,
          23,
          24,
          25,
          26,
          27,
          28,
          29
         ],
         "xaxis": "x",
         "y": [
          0.06477200984954834,
          0.08528683334589005,
          0.07891187071800232,
          0.07977374643087387,
          0.07782738655805588,
          0.09436491131782532,
          0.0673220157623291,
          0.058500662446022034,
          0.0633157342672348,
          0.05757632106542587,
          0.07240291684865952,
          0.06465794891119003,
          0.057000093162059784,
          0.0550905242562294,
          0.0583970732986927,
          0.05503833293914795,
          0.04914277791976929,
          0.0559702068567276,
          0.04947276413440704,
          0.052241597324609756,
          0.053151730448007584,
          0.046179089695215225,
          0.04863398149609566,
          0.04882745072245598,
          0.04569610580801964,
          0.04378689080476761,
          0.045263130217790604,
          0.050433751195669174,
          0.048027556389570236,
          0.04506150260567665
         ],
         "yaxis": "y"
        }
       ],
       "layout": {
        "legend": {
         "title": {
          "text": "variable"
         },
         "tracegroupgap": 0
        },
        "margin": {
         "t": 60
        },
        "template": {
         "data": {
          "bar": [
           {
            "error_x": {
             "color": "#2a3f5f"
            },
            "error_y": {
             "color": "#2a3f5f"
            },
            "marker": {
             "line": {
              "color": "#E5ECF6",
              "width": 0.5
             }
            },
            "type": "bar"
           }
          ],
          "barpolar": [
           {
            "marker": {
             "line": {
              "color": "#E5ECF6",
              "width": 0.5
             }
            },
            "type": "barpolar"
           }
          ],
          "carpet": [
           {
            "aaxis": {
             "endlinecolor": "#2a3f5f",
             "gridcolor": "white",
             "linecolor": "white",
             "minorgridcolor": "white",
             "startlinecolor": "#2a3f5f"
            },
            "baxis": {
             "endlinecolor": "#2a3f5f",
             "gridcolor": "white",
             "linecolor": "white",
             "minorgridcolor": "white",
             "startlinecolor": "#2a3f5f"
            },
            "type": "carpet"
           }
          ],
          "choropleth": [
           {
            "colorbar": {
             "outlinewidth": 0,
             "ticks": ""
            },
            "type": "choropleth"
           }
          ],
          "contour": [
           {
            "colorbar": {
             "outlinewidth": 0,
             "ticks": ""
            },
            "colorscale": [
             [
              0,
              "#0d0887"
             ],
             [
              0.1111111111111111,
              "#46039f"
             ],
             [
              0.2222222222222222,
              "#7201a8"
             ],
             [
              0.3333333333333333,
              "#9c179e"
             ],
             [
              0.4444444444444444,
              "#bd3786"
             ],
             [
              0.5555555555555556,
              "#d8576b"
             ],
             [
              0.6666666666666666,
              "#ed7953"
             ],
             [
              0.7777777777777778,
              "#fb9f3a"
             ],
             [
              0.8888888888888888,
              "#fdca26"
             ],
             [
              1,
              "#f0f921"
             ]
            ],
            "type": "contour"
           }
          ],
          "contourcarpet": [
           {
            "colorbar": {
             "outlinewidth": 0,
             "ticks": ""
            },
            "type": "contourcarpet"
           }
          ],
          "heatmap": [
           {
            "colorbar": {
             "outlinewidth": 0,
             "ticks": ""
            },
            "colorscale": [
             [
              0,
              "#0d0887"
             ],
             [
              0.1111111111111111,
              "#46039f"
             ],
             [
              0.2222222222222222,
              "#7201a8"
             ],
             [
              0.3333333333333333,
              "#9c179e"
             ],
             [
              0.4444444444444444,
              "#bd3786"
             ],
             [
              0.5555555555555556,
              "#d8576b"
             ],
             [
              0.6666666666666666,
              "#ed7953"
             ],
             [
              0.7777777777777778,
              "#fb9f3a"
             ],
             [
              0.8888888888888888,
              "#fdca26"
             ],
             [
              1,
              "#f0f921"
             ]
            ],
            "type": "heatmap"
           }
          ],
          "heatmapgl": [
           {
            "colorbar": {
             "outlinewidth": 0,
             "ticks": ""
            },
            "colorscale": [
             [
              0,
              "#0d0887"
             ],
             [
              0.1111111111111111,
              "#46039f"
             ],
             [
              0.2222222222222222,
              "#7201a8"
             ],
             [
              0.3333333333333333,
              "#9c179e"
             ],
             [
              0.4444444444444444,
              "#bd3786"
             ],
             [
              0.5555555555555556,
              "#d8576b"
             ],
             [
              0.6666666666666666,
              "#ed7953"
             ],
             [
              0.7777777777777778,
              "#fb9f3a"
             ],
             [
              0.8888888888888888,
              "#fdca26"
             ],
             [
              1,
              "#f0f921"
             ]
            ],
            "type": "heatmapgl"
           }
          ],
          "histogram": [
           {
            "marker": {
             "colorbar": {
              "outlinewidth": 0,
              "ticks": ""
             }
            },
            "type": "histogram"
           }
          ],
          "histogram2d": [
           {
            "colorbar": {
             "outlinewidth": 0,
             "ticks": ""
            },
            "colorscale": [
             [
              0,
              "#0d0887"
             ],
             [
              0.1111111111111111,
              "#46039f"
             ],
             [
              0.2222222222222222,
              "#7201a8"
             ],
             [
              0.3333333333333333,
              "#9c179e"
             ],
             [
              0.4444444444444444,
              "#bd3786"
             ],
             [
              0.5555555555555556,
              "#d8576b"
             ],
             [
              0.6666666666666666,
              "#ed7953"
             ],
             [
              0.7777777777777778,
              "#fb9f3a"
             ],
             [
              0.8888888888888888,
              "#fdca26"
             ],
             [
              1,
              "#f0f921"
             ]
            ],
            "type": "histogram2d"
           }
          ],
          "histogram2dcontour": [
           {
            "colorbar": {
             "outlinewidth": 0,
             "ticks": ""
            },
            "colorscale": [
             [
              0,
              "#0d0887"
             ],
             [
              0.1111111111111111,
              "#46039f"
             ],
             [
              0.2222222222222222,
              "#7201a8"
             ],
             [
              0.3333333333333333,
              "#9c179e"
             ],
             [
              0.4444444444444444,
              "#bd3786"
             ],
             [
              0.5555555555555556,
              "#d8576b"
             ],
             [
              0.6666666666666666,
              "#ed7953"
             ],
             [
              0.7777777777777778,
              "#fb9f3a"
             ],
             [
              0.8888888888888888,
              "#fdca26"
             ],
             [
              1,
              "#f0f921"
             ]
            ],
            "type": "histogram2dcontour"
           }
          ],
          "mesh3d": [
           {
            "colorbar": {
             "outlinewidth": 0,
             "ticks": ""
            },
            "type": "mesh3d"
           }
          ],
          "parcoords": [
           {
            "line": {
             "colorbar": {
              "outlinewidth": 0,
              "ticks": ""
             }
            },
            "type": "parcoords"
           }
          ],
          "pie": [
           {
            "automargin": true,
            "type": "pie"
           }
          ],
          "scatter": [
           {
            "marker": {
             "colorbar": {
              "outlinewidth": 0,
              "ticks": ""
             }
            },
            "type": "scatter"
           }
          ],
          "scatter3d": [
           {
            "line": {
             "colorbar": {
              "outlinewidth": 0,
              "ticks": ""
             }
            },
            "marker": {
             "colorbar": {
              "outlinewidth": 0,
              "ticks": ""
             }
            },
            "type": "scatter3d"
           }
          ],
          "scattercarpet": [
           {
            "marker": {
             "colorbar": {
              "outlinewidth": 0,
              "ticks": ""
             }
            },
            "type": "scattercarpet"
           }
          ],
          "scattergeo": [
           {
            "marker": {
             "colorbar": {
              "outlinewidth": 0,
              "ticks": ""
             }
            },
            "type": "scattergeo"
           }
          ],
          "scattergl": [
           {
            "marker": {
             "colorbar": {
              "outlinewidth": 0,
              "ticks": ""
             }
            },
            "type": "scattergl"
           }
          ],
          "scattermapbox": [
           {
            "marker": {
             "colorbar": {
              "outlinewidth": 0,
              "ticks": ""
             }
            },
            "type": "scattermapbox"
           }
          ],
          "scatterpolar": [
           {
            "marker": {
             "colorbar": {
              "outlinewidth": 0,
              "ticks": ""
             }
            },
            "type": "scatterpolar"
           }
          ],
          "scatterpolargl": [
           {
            "marker": {
             "colorbar": {
              "outlinewidth": 0,
              "ticks": ""
             }
            },
            "type": "scatterpolargl"
           }
          ],
          "scatterternary": [
           {
            "marker": {
             "colorbar": {
              "outlinewidth": 0,
              "ticks": ""
             }
            },
            "type": "scatterternary"
           }
          ],
          "surface": [
           {
            "colorbar": {
             "outlinewidth": 0,
             "ticks": ""
            },
            "colorscale": [
             [
              0,
              "#0d0887"
             ],
             [
              0.1111111111111111,
              "#46039f"
             ],
             [
              0.2222222222222222,
              "#7201a8"
             ],
             [
              0.3333333333333333,
              "#9c179e"
             ],
             [
              0.4444444444444444,
              "#bd3786"
             ],
             [
              0.5555555555555556,
              "#d8576b"
             ],
             [
              0.6666666666666666,
              "#ed7953"
             ],
             [
              0.7777777777777778,
              "#fb9f3a"
             ],
             [
              0.8888888888888888,
              "#fdca26"
             ],
             [
              1,
              "#f0f921"
             ]
            ],
            "type": "surface"
           }
          ],
          "table": [
           {
            "cells": {
             "fill": {
              "color": "#EBF0F8"
             },
             "line": {
              "color": "white"
             }
            },
            "header": {
             "fill": {
              "color": "#C8D4E3"
             },
             "line": {
              "color": "white"
             }
            },
            "type": "table"
           }
          ]
         },
         "layout": {
          "annotationdefaults": {
           "arrowcolor": "#2a3f5f",
           "arrowhead": 0,
           "arrowwidth": 1
          },
          "autotypenumbers": "strict",
          "coloraxis": {
           "colorbar": {
            "outlinewidth": 0,
            "ticks": ""
           }
          },
          "colorscale": {
           "diverging": [
            [
             0,
             "#8e0152"
            ],
            [
             0.1,
             "#c51b7d"
            ],
            [
             0.2,
             "#de77ae"
            ],
            [
             0.3,
             "#f1b6da"
            ],
            [
             0.4,
             "#fde0ef"
            ],
            [
             0.5,
             "#f7f7f7"
            ],
            [
             0.6,
             "#e6f5d0"
            ],
            [
             0.7,
             "#b8e186"
            ],
            [
             0.8,
             "#7fbc41"
            ],
            [
             0.9,
             "#4d9221"
            ],
            [
             1,
             "#276419"
            ]
           ],
           "sequential": [
            [
             0,
             "#0d0887"
            ],
            [
             0.1111111111111111,
             "#46039f"
            ],
            [
             0.2222222222222222,
             "#7201a8"
            ],
            [
             0.3333333333333333,
             "#9c179e"
            ],
            [
             0.4444444444444444,
             "#bd3786"
            ],
            [
             0.5555555555555556,
             "#d8576b"
            ],
            [
             0.6666666666666666,
             "#ed7953"
            ],
            [
             0.7777777777777778,
             "#fb9f3a"
            ],
            [
             0.8888888888888888,
             "#fdca26"
            ],
            [
             1,
             "#f0f921"
            ]
           ],
           "sequentialminus": [
            [
             0,
             "#0d0887"
            ],
            [
             0.1111111111111111,
             "#46039f"
            ],
            [
             0.2222222222222222,
             "#7201a8"
            ],
            [
             0.3333333333333333,
             "#9c179e"
            ],
            [
             0.4444444444444444,
             "#bd3786"
            ],
            [
             0.5555555555555556,
             "#d8576b"
            ],
            [
             0.6666666666666666,
             "#ed7953"
            ],
            [
             0.7777777777777778,
             "#fb9f3a"
            ],
            [
             0.8888888888888888,
             "#fdca26"
            ],
            [
             1,
             "#f0f921"
            ]
           ]
          },
          "colorway": [
           "#636efa",
           "#EF553B",
           "#00cc96",
           "#ab63fa",
           "#FFA15A",
           "#19d3f3",
           "#FF6692",
           "#B6E880",
           "#FF97FF",
           "#FECB52"
          ],
          "font": {
           "color": "#2a3f5f"
          },
          "geo": {
           "bgcolor": "white",
           "lakecolor": "white",
           "landcolor": "#E5ECF6",
           "showlakes": true,
           "showland": true,
           "subunitcolor": "white"
          },
          "hoverlabel": {
           "align": "left"
          },
          "hovermode": "closest",
          "mapbox": {
           "style": "light"
          },
          "paper_bgcolor": "white",
          "plot_bgcolor": "#E5ECF6",
          "polar": {
           "angularaxis": {
            "gridcolor": "white",
            "linecolor": "white",
            "ticks": ""
           },
           "bgcolor": "#E5ECF6",
           "radialaxis": {
            "gridcolor": "white",
            "linecolor": "white",
            "ticks": ""
           }
          },
          "scene": {
           "xaxis": {
            "backgroundcolor": "#E5ECF6",
            "gridcolor": "white",
            "gridwidth": 2,
            "linecolor": "white",
            "showbackground": true,
            "ticks": "",
            "zerolinecolor": "white"
           },
           "yaxis": {
            "backgroundcolor": "#E5ECF6",
            "gridcolor": "white",
            "gridwidth": 2,
            "linecolor": "white",
            "showbackground": true,
            "ticks": "",
            "zerolinecolor": "white"
           },
           "zaxis": {
            "backgroundcolor": "#E5ECF6",
            "gridcolor": "white",
            "gridwidth": 2,
            "linecolor": "white",
            "showbackground": true,
            "ticks": "",
            "zerolinecolor": "white"
           }
          },
          "shapedefaults": {
           "line": {
            "color": "#2a3f5f"
           }
          },
          "ternary": {
           "aaxis": {
            "gridcolor": "white",
            "linecolor": "white",
            "ticks": ""
           },
           "baxis": {
            "gridcolor": "white",
            "linecolor": "white",
            "ticks": ""
           },
           "bgcolor": "#E5ECF6",
           "caxis": {
            "gridcolor": "white",
            "linecolor": "white",
            "ticks": ""
           }
          },
          "title": {
           "x": 0.05
          },
          "xaxis": {
           "automargin": true,
           "gridcolor": "white",
           "linecolor": "white",
           "ticks": "",
           "title": {
            "standoff": 15
           },
           "zerolinecolor": "white",
           "zerolinewidth": 2
          },
          "yaxis": {
           "automargin": true,
           "gridcolor": "white",
           "linecolor": "white",
           "ticks": "",
           "title": {
            "standoff": 15
           },
           "zerolinecolor": "white",
           "zerolinewidth": 2
          }
         }
        },
        "xaxis": {
         "anchor": "y",
         "domain": [
          0,
          1
         ],
         "title": {
          "text": "epochs"
         }
        },
        "yaxis": {
         "anchor": "x",
         "domain": [
          0,
          1
         ],
         "title": {
          "text": "value"
         }
        }
       }
      }
     },
     "metadata": {},
     "output_type": "display_data"
    }
   ],
   "source": [
    "plot_df ={'loss': loss,\n",
    "          'val_loss': val_loss,\n",
    "         'epochs': np.arange(len(loss))}\n",
    "\n",
    "fig = px.line(plot_df, x='epochs', y=['loss', 'val_loss'])\n",
    "fig.show()"
   ]
  },
  {
   "cell_type": "code",
   "execution_count": 28,
   "metadata": {},
   "outputs": [],
   "source": [
    "model.eval()\n",
    "src, true_target = next(iter(test_loader))\n",
    "src = Variable(torch.Tensor(src.float())).to(device)\n",
    "output     = model(src).cpu().view(-1)\n",
    "output = output.detach().numpy().reshape(len(output),1)\n",
    "output = scaler.inverse_transform(output).flatten()"
   ]
  },
  {
   "cell_type": "code",
   "execution_count": 29,
   "metadata": {},
   "outputs": [],
   "source": [
    "label_test = true_target.cpu().view(-1).detach().numpy()\n",
    "label_test = label_test.reshape(len(label_test),1)\n",
    "label_test = scaler.inverse_transform(label_test).flatten()"
   ]
  },
  {
   "cell_type": "code",
   "execution_count": 30,
   "metadata": {},
   "outputs": [
    {
     "data": {
      "text/plain": [
       "(60,)"
      ]
     },
     "execution_count": 30,
     "metadata": {},
     "output_type": "execute_result"
    }
   ],
   "source": [
    "output.shape"
   ]
  },
  {
   "cell_type": "code",
   "execution_count": 31,
   "metadata": {},
   "outputs": [
    {
     "data": {
      "application/vnd.plotly.v1+json": {
       "config": {
        "plotlyServerURL": "https://plot.ly"
       },
       "data": [
        {
         "hovertemplate": "variable=pred<br>Date=%{x}<br>value=%{y}<extra></extra>",
         "legendgroup": "pred",
         "line": {
          "color": "#636efa",
          "dash": "solid"
         },
         "mode": "lines",
         "name": "pred",
         "orientation": "v",
         "showlegend": true,
         "type": "scatter",
         "x": [
          "2017-01-01T00:00:00",
          "2017-01-02T00:00:00",
          "2017-01-03T00:00:00",
          "2017-01-04T00:00:00",
          "2017-01-05T00:00:00",
          "2017-01-06T00:00:00",
          "2017-01-07T00:00:00",
          "2017-01-08T00:00:00",
          "2017-01-09T00:00:00",
          "2017-01-10T00:00:00",
          "2017-01-11T00:00:00",
          "2017-01-12T00:00:00",
          "2017-01-13T00:00:00",
          "2017-01-14T00:00:00",
          "2017-01-15T00:00:00",
          "2017-01-16T00:00:00",
          "2017-01-17T00:00:00",
          "2017-01-18T00:00:00",
          "2017-01-19T00:00:00",
          "2017-01-20T00:00:00",
          "2017-01-21T00:00:00",
          "2017-01-22T00:00:00",
          "2017-01-23T00:00:00",
          "2017-01-24T00:00:00",
          "2017-01-25T00:00:00",
          "2017-01-26T00:00:00",
          "2017-01-27T00:00:00",
          "2017-01-28T00:00:00",
          "2017-01-29T00:00:00",
          "2017-01-30T00:00:00"
         ],
         "xaxis": "x",
         "y": [
          18.0715389251709,
          16.294374465942383,
          15.645851135253906,
          15.014493942260742,
          15.242451667785645,
          16.623363494873047,
          18.338924407958984,
          17.443384170532227,
          16.817338943481445,
          16.13555145263672,
          14.9021635055542,
          15.583544731140137,
          18.0819034576416,
          19.048372268676758,
          17.455951690673828,
          17.125600814819336,
          16.034730911254883,
          14.89326286315918,
          16.01889991760254,
          18.620702743530273,
          18.95281219482422,
          17.597475051879883,
          17.00475311279297,
          16.06338882446289,
          15.623279571533203,
          16.959228515625,
          18.209762573242188,
          18.230073928833008,
          18.15850830078125,
          18.267606735229492
         ],
         "yaxis": "y"
        },
        {
         "hovertemplate": "variable=label<br>Date=%{x}<br>value=%{y}<extra></extra>",
         "legendgroup": "label",
         "line": {
          "color": "#EF553B",
          "dash": "solid"
         },
         "mode": "lines",
         "name": "label",
         "orientation": "v",
         "showlegend": true,
         "type": "scatter",
         "x": [
          "2017-01-01T00:00:00",
          "2017-01-02T00:00:00",
          "2017-01-03T00:00:00",
          "2017-01-04T00:00:00",
          "2017-01-05T00:00:00",
          "2017-01-06T00:00:00",
          "2017-01-07T00:00:00",
          "2017-01-08T00:00:00",
          "2017-01-09T00:00:00",
          "2017-01-10T00:00:00",
          "2017-01-11T00:00:00",
          "2017-01-12T00:00:00",
          "2017-01-13T00:00:00",
          "2017-01-14T00:00:00",
          "2017-01-15T00:00:00",
          "2017-01-16T00:00:00",
          "2017-01-17T00:00:00",
          "2017-01-18T00:00:00",
          "2017-01-19T00:00:00",
          "2017-01-20T00:00:00",
          "2017-01-21T00:00:00",
          "2017-01-22T00:00:00",
          "2017-01-23T00:00:00",
          "2017-01-24T00:00:00",
          "2017-01-25T00:00:00",
          "2017-01-26T00:00:00",
          "2017-01-27T00:00:00",
          "2017-01-28T00:00:00",
          "2017-01-29T00:00:00",
          "2017-01-30T00:00:00"
         ],
         "xaxis": "x",
         "y": [
          19,
          15,
          10,
          16,
          14,
          24.000000000000004,
          14,
          20,
          18,
          11,
          14,
          17,
          7.000000000000002,
          16,
          29.000000000000004,
          15,
          14,
          10,
          16,
          22,
          13,
          21,
          8.999999999999998,
          18,
          14,
          13,
          10,
          16,
          24.000000000000004,
          8.999999999999998
         ],
         "yaxis": "y"
        },
        {
         "hovertemplate": "variable=error<br>Date=%{x}<br>value=%{y}<extra></extra>",
         "legendgroup": "error",
         "line": {
          "color": "#00cc96",
          "dash": "solid"
         },
         "mode": "lines",
         "name": "error",
         "orientation": "v",
         "showlegend": true,
         "type": "scatter",
         "x": [
          "2017-01-01T00:00:00",
          "2017-01-02T00:00:00",
          "2017-01-03T00:00:00",
          "2017-01-04T00:00:00",
          "2017-01-05T00:00:00",
          "2017-01-06T00:00:00",
          "2017-01-07T00:00:00",
          "2017-01-08T00:00:00",
          "2017-01-09T00:00:00",
          "2017-01-10T00:00:00",
          "2017-01-11T00:00:00",
          "2017-01-12T00:00:00",
          "2017-01-13T00:00:00",
          "2017-01-14T00:00:00",
          "2017-01-15T00:00:00",
          "2017-01-16T00:00:00",
          "2017-01-17T00:00:00",
          "2017-01-18T00:00:00",
          "2017-01-19T00:00:00",
          "2017-01-20T00:00:00",
          "2017-01-21T00:00:00",
          "2017-01-22T00:00:00",
          "2017-01-23T00:00:00",
          "2017-01-24T00:00:00",
          "2017-01-25T00:00:00",
          "2017-01-26T00:00:00",
          "2017-01-27T00:00:00",
          "2017-01-28T00:00:00",
          "2017-01-29T00:00:00",
          "2017-01-30T00:00:00"
         ],
         "xaxis": "x",
         "y": [
          -0.9284610748291016,
          1.2943744659423828,
          5.645851135253906,
          -0.9855060577392578,
          1.2424516677856445,
          -7.376636505126957,
          4.338924407958984,
          -2.5566158294677734,
          -1.1826610565185547,
          5.135551452636719,
          0.9021635055541992,
          -1.4164552688598633,
          11.0819034576416,
          3.048372268676758,
          -11.544048309326175,
          2.125600814819336,
          2.034730911254883,
          4.89326286315918,
          0.018899917602539062,
          -3.3792972564697266,
          5.952812194824219,
          -3.402524948120117,
          8.00475311279297,
          -1.9366111755371094,
          1.6232795715332031,
          3.959228515625,
          8.209762573242188,
          2.230073928833008,
          -5.8414916992187536,
          9.267606735229494
         ],
         "yaxis": "y"
        }
       ],
       "layout": {
        "legend": {
         "title": {
          "text": "variable"
         },
         "tracegroupgap": 0
        },
        "margin": {
         "t": 60
        },
        "template": {
         "data": {
          "bar": [
           {
            "error_x": {
             "color": "#2a3f5f"
            },
            "error_y": {
             "color": "#2a3f5f"
            },
            "marker": {
             "line": {
              "color": "#E5ECF6",
              "width": 0.5
             }
            },
            "type": "bar"
           }
          ],
          "barpolar": [
           {
            "marker": {
             "line": {
              "color": "#E5ECF6",
              "width": 0.5
             }
            },
            "type": "barpolar"
           }
          ],
          "carpet": [
           {
            "aaxis": {
             "endlinecolor": "#2a3f5f",
             "gridcolor": "white",
             "linecolor": "white",
             "minorgridcolor": "white",
             "startlinecolor": "#2a3f5f"
            },
            "baxis": {
             "endlinecolor": "#2a3f5f",
             "gridcolor": "white",
             "linecolor": "white",
             "minorgridcolor": "white",
             "startlinecolor": "#2a3f5f"
            },
            "type": "carpet"
           }
          ],
          "choropleth": [
           {
            "colorbar": {
             "outlinewidth": 0,
             "ticks": ""
            },
            "type": "choropleth"
           }
          ],
          "contour": [
           {
            "colorbar": {
             "outlinewidth": 0,
             "ticks": ""
            },
            "colorscale": [
             [
              0,
              "#0d0887"
             ],
             [
              0.1111111111111111,
              "#46039f"
             ],
             [
              0.2222222222222222,
              "#7201a8"
             ],
             [
              0.3333333333333333,
              "#9c179e"
             ],
             [
              0.4444444444444444,
              "#bd3786"
             ],
             [
              0.5555555555555556,
              "#d8576b"
             ],
             [
              0.6666666666666666,
              "#ed7953"
             ],
             [
              0.7777777777777778,
              "#fb9f3a"
             ],
             [
              0.8888888888888888,
              "#fdca26"
             ],
             [
              1,
              "#f0f921"
             ]
            ],
            "type": "contour"
           }
          ],
          "contourcarpet": [
           {
            "colorbar": {
             "outlinewidth": 0,
             "ticks": ""
            },
            "type": "contourcarpet"
           }
          ],
          "heatmap": [
           {
            "colorbar": {
             "outlinewidth": 0,
             "ticks": ""
            },
            "colorscale": [
             [
              0,
              "#0d0887"
             ],
             [
              0.1111111111111111,
              "#46039f"
             ],
             [
              0.2222222222222222,
              "#7201a8"
             ],
             [
              0.3333333333333333,
              "#9c179e"
             ],
             [
              0.4444444444444444,
              "#bd3786"
             ],
             [
              0.5555555555555556,
              "#d8576b"
             ],
             [
              0.6666666666666666,
              "#ed7953"
             ],
             [
              0.7777777777777778,
              "#fb9f3a"
             ],
             [
              0.8888888888888888,
              "#fdca26"
             ],
             [
              1,
              "#f0f921"
             ]
            ],
            "type": "heatmap"
           }
          ],
          "heatmapgl": [
           {
            "colorbar": {
             "outlinewidth": 0,
             "ticks": ""
            },
            "colorscale": [
             [
              0,
              "#0d0887"
             ],
             [
              0.1111111111111111,
              "#46039f"
             ],
             [
              0.2222222222222222,
              "#7201a8"
             ],
             [
              0.3333333333333333,
              "#9c179e"
             ],
             [
              0.4444444444444444,
              "#bd3786"
             ],
             [
              0.5555555555555556,
              "#d8576b"
             ],
             [
              0.6666666666666666,
              "#ed7953"
             ],
             [
              0.7777777777777778,
              "#fb9f3a"
             ],
             [
              0.8888888888888888,
              "#fdca26"
             ],
             [
              1,
              "#f0f921"
             ]
            ],
            "type": "heatmapgl"
           }
          ],
          "histogram": [
           {
            "marker": {
             "colorbar": {
              "outlinewidth": 0,
              "ticks": ""
             }
            },
            "type": "histogram"
           }
          ],
          "histogram2d": [
           {
            "colorbar": {
             "outlinewidth": 0,
             "ticks": ""
            },
            "colorscale": [
             [
              0,
              "#0d0887"
             ],
             [
              0.1111111111111111,
              "#46039f"
             ],
             [
              0.2222222222222222,
              "#7201a8"
             ],
             [
              0.3333333333333333,
              "#9c179e"
             ],
             [
              0.4444444444444444,
              "#bd3786"
             ],
             [
              0.5555555555555556,
              "#d8576b"
             ],
             [
              0.6666666666666666,
              "#ed7953"
             ],
             [
              0.7777777777777778,
              "#fb9f3a"
             ],
             [
              0.8888888888888888,
              "#fdca26"
             ],
             [
              1,
              "#f0f921"
             ]
            ],
            "type": "histogram2d"
           }
          ],
          "histogram2dcontour": [
           {
            "colorbar": {
             "outlinewidth": 0,
             "ticks": ""
            },
            "colorscale": [
             [
              0,
              "#0d0887"
             ],
             [
              0.1111111111111111,
              "#46039f"
             ],
             [
              0.2222222222222222,
              "#7201a8"
             ],
             [
              0.3333333333333333,
              "#9c179e"
             ],
             [
              0.4444444444444444,
              "#bd3786"
             ],
             [
              0.5555555555555556,
              "#d8576b"
             ],
             [
              0.6666666666666666,
              "#ed7953"
             ],
             [
              0.7777777777777778,
              "#fb9f3a"
             ],
             [
              0.8888888888888888,
              "#fdca26"
             ],
             [
              1,
              "#f0f921"
             ]
            ],
            "type": "histogram2dcontour"
           }
          ],
          "mesh3d": [
           {
            "colorbar": {
             "outlinewidth": 0,
             "ticks": ""
            },
            "type": "mesh3d"
           }
          ],
          "parcoords": [
           {
            "line": {
             "colorbar": {
              "outlinewidth": 0,
              "ticks": ""
             }
            },
            "type": "parcoords"
           }
          ],
          "pie": [
           {
            "automargin": true,
            "type": "pie"
           }
          ],
          "scatter": [
           {
            "marker": {
             "colorbar": {
              "outlinewidth": 0,
              "ticks": ""
             }
            },
            "type": "scatter"
           }
          ],
          "scatter3d": [
           {
            "line": {
             "colorbar": {
              "outlinewidth": 0,
              "ticks": ""
             }
            },
            "marker": {
             "colorbar": {
              "outlinewidth": 0,
              "ticks": ""
             }
            },
            "type": "scatter3d"
           }
          ],
          "scattercarpet": [
           {
            "marker": {
             "colorbar": {
              "outlinewidth": 0,
              "ticks": ""
             }
            },
            "type": "scattercarpet"
           }
          ],
          "scattergeo": [
           {
            "marker": {
             "colorbar": {
              "outlinewidth": 0,
              "ticks": ""
             }
            },
            "type": "scattergeo"
           }
          ],
          "scattergl": [
           {
            "marker": {
             "colorbar": {
              "outlinewidth": 0,
              "ticks": ""
             }
            },
            "type": "scattergl"
           }
          ],
          "scattermapbox": [
           {
            "marker": {
             "colorbar": {
              "outlinewidth": 0,
              "ticks": ""
             }
            },
            "type": "scattermapbox"
           }
          ],
          "scatterpolar": [
           {
            "marker": {
             "colorbar": {
              "outlinewidth": 0,
              "ticks": ""
             }
            },
            "type": "scatterpolar"
           }
          ],
          "scatterpolargl": [
           {
            "marker": {
             "colorbar": {
              "outlinewidth": 0,
              "ticks": ""
             }
            },
            "type": "scatterpolargl"
           }
          ],
          "scatterternary": [
           {
            "marker": {
             "colorbar": {
              "outlinewidth": 0,
              "ticks": ""
             }
            },
            "type": "scatterternary"
           }
          ],
          "surface": [
           {
            "colorbar": {
             "outlinewidth": 0,
             "ticks": ""
            },
            "colorscale": [
             [
              0,
              "#0d0887"
             ],
             [
              0.1111111111111111,
              "#46039f"
             ],
             [
              0.2222222222222222,
              "#7201a8"
             ],
             [
              0.3333333333333333,
              "#9c179e"
             ],
             [
              0.4444444444444444,
              "#bd3786"
             ],
             [
              0.5555555555555556,
              "#d8576b"
             ],
             [
              0.6666666666666666,
              "#ed7953"
             ],
             [
              0.7777777777777778,
              "#fb9f3a"
             ],
             [
              0.8888888888888888,
              "#fdca26"
             ],
             [
              1,
              "#f0f921"
             ]
            ],
            "type": "surface"
           }
          ],
          "table": [
           {
            "cells": {
             "fill": {
              "color": "#EBF0F8"
             },
             "line": {
              "color": "white"
             }
            },
            "header": {
             "fill": {
              "color": "#C8D4E3"
             },
             "line": {
              "color": "white"
             }
            },
            "type": "table"
           }
          ]
         },
         "layout": {
          "annotationdefaults": {
           "arrowcolor": "#2a3f5f",
           "arrowhead": 0,
           "arrowwidth": 1
          },
          "autotypenumbers": "strict",
          "coloraxis": {
           "colorbar": {
            "outlinewidth": 0,
            "ticks": ""
           }
          },
          "colorscale": {
           "diverging": [
            [
             0,
             "#8e0152"
            ],
            [
             0.1,
             "#c51b7d"
            ],
            [
             0.2,
             "#de77ae"
            ],
            [
             0.3,
             "#f1b6da"
            ],
            [
             0.4,
             "#fde0ef"
            ],
            [
             0.5,
             "#f7f7f7"
            ],
            [
             0.6,
             "#e6f5d0"
            ],
            [
             0.7,
             "#b8e186"
            ],
            [
             0.8,
             "#7fbc41"
            ],
            [
             0.9,
             "#4d9221"
            ],
            [
             1,
             "#276419"
            ]
           ],
           "sequential": [
            [
             0,
             "#0d0887"
            ],
            [
             0.1111111111111111,
             "#46039f"
            ],
            [
             0.2222222222222222,
             "#7201a8"
            ],
            [
             0.3333333333333333,
             "#9c179e"
            ],
            [
             0.4444444444444444,
             "#bd3786"
            ],
            [
             0.5555555555555556,
             "#d8576b"
            ],
            [
             0.6666666666666666,
             "#ed7953"
            ],
            [
             0.7777777777777778,
             "#fb9f3a"
            ],
            [
             0.8888888888888888,
             "#fdca26"
            ],
            [
             1,
             "#f0f921"
            ]
           ],
           "sequentialminus": [
            [
             0,
             "#0d0887"
            ],
            [
             0.1111111111111111,
             "#46039f"
            ],
            [
             0.2222222222222222,
             "#7201a8"
            ],
            [
             0.3333333333333333,
             "#9c179e"
            ],
            [
             0.4444444444444444,
             "#bd3786"
            ],
            [
             0.5555555555555556,
             "#d8576b"
            ],
            [
             0.6666666666666666,
             "#ed7953"
            ],
            [
             0.7777777777777778,
             "#fb9f3a"
            ],
            [
             0.8888888888888888,
             "#fdca26"
            ],
            [
             1,
             "#f0f921"
            ]
           ]
          },
          "colorway": [
           "#636efa",
           "#EF553B",
           "#00cc96",
           "#ab63fa",
           "#FFA15A",
           "#19d3f3",
           "#FF6692",
           "#B6E880",
           "#FF97FF",
           "#FECB52"
          ],
          "font": {
           "color": "#2a3f5f"
          },
          "geo": {
           "bgcolor": "white",
           "lakecolor": "white",
           "landcolor": "#E5ECF6",
           "showlakes": true,
           "showland": true,
           "subunitcolor": "white"
          },
          "hoverlabel": {
           "align": "left"
          },
          "hovermode": "closest",
          "mapbox": {
           "style": "light"
          },
          "paper_bgcolor": "white",
          "plot_bgcolor": "#E5ECF6",
          "polar": {
           "angularaxis": {
            "gridcolor": "white",
            "linecolor": "white",
            "ticks": ""
           },
           "bgcolor": "#E5ECF6",
           "radialaxis": {
            "gridcolor": "white",
            "linecolor": "white",
            "ticks": ""
           }
          },
          "scene": {
           "xaxis": {
            "backgroundcolor": "#E5ECF6",
            "gridcolor": "white",
            "gridwidth": 2,
            "linecolor": "white",
            "showbackground": true,
            "ticks": "",
            "zerolinecolor": "white"
           },
           "yaxis": {
            "backgroundcolor": "#E5ECF6",
            "gridcolor": "white",
            "gridwidth": 2,
            "linecolor": "white",
            "showbackground": true,
            "ticks": "",
            "zerolinecolor": "white"
           },
           "zaxis": {
            "backgroundcolor": "#E5ECF6",
            "gridcolor": "white",
            "gridwidth": 2,
            "linecolor": "white",
            "showbackground": true,
            "ticks": "",
            "zerolinecolor": "white"
           }
          },
          "shapedefaults": {
           "line": {
            "color": "#2a3f5f"
           }
          },
          "ternary": {
           "aaxis": {
            "gridcolor": "white",
            "linecolor": "white",
            "ticks": ""
           },
           "baxis": {
            "gridcolor": "white",
            "linecolor": "white",
            "ticks": ""
           },
           "bgcolor": "#E5ECF6",
           "caxis": {
            "gridcolor": "white",
            "linecolor": "white",
            "ticks": ""
           }
          },
          "title": {
           "x": 0.05
          },
          "xaxis": {
           "automargin": true,
           "gridcolor": "white",
           "linecolor": "white",
           "ticks": "",
           "title": {
            "standoff": 15
           },
           "zerolinecolor": "white",
           "zerolinewidth": 2
          },
          "yaxis": {
           "automargin": true,
           "gridcolor": "white",
           "linecolor": "white",
           "ticks": "",
           "title": {
            "standoff": 15
           },
           "zerolinecolor": "white",
           "zerolinewidth": 2
          }
         }
        },
        "xaxis": {
         "anchor": "y",
         "domain": [
          0,
          1
         ],
         "title": {
          "text": "Date"
         }
        },
        "yaxis": {
         "anchor": "x",
         "domain": [
          0,
          1
         ],
         "title": {
          "text": "value"
         }
        }
       }
      }
     },
     "metadata": {},
     "output_type": "display_data"
    }
   ],
   "source": [
    "plot_df ={'Date': dates,\n",
    "          'pred': output[-pred_horizon:],\n",
    "          'label': label_test[-pred_horizon:],\n",
    "          'error': output[-pred_horizon:]-label_test[-pred_horizon:]}\n",
    "\n",
    "fig = px.line(plot_df, x='Date', y=['pred','label','error'])\n",
    "fig.show()"
   ]
  },
  {
   "cell_type": "code",
   "execution_count": 32,
   "metadata": {},
   "outputs": [
    {
     "data": {
      "text/plain": [
       "26.074062449362557"
      ]
     },
     "execution_count": 32,
     "metadata": {},
     "output_type": "execute_result"
    }
   ],
   "source": [
    "mean_squared_error(label_test[-pred_horizon:], output[-pred_horizon:])"
   ]
  },
  {
   "cell_type": "code",
   "execution_count": 33,
   "metadata": {},
   "outputs": [],
   "source": [
    "attention_weights = model.encoder_attention(src, layer_idx=0)[1]\n",
    "attention_weights = attention_weights.cpu().detach().numpy()\n",
    "attention_weights = attention_weights.reshape(src.shape[1], src.shape[1])"
   ]
  },
  {
   "cell_type": "code",
   "execution_count": 34,
   "metadata": {},
   "outputs": [],
   "source": [
    "attention_weights = attention_weights[feat_win:, :feat_win]"
   ]
  },
  {
   "cell_type": "code",
   "execution_count": 35,
   "metadata": {},
   "outputs": [
    {
     "data": {
      "text/plain": [
       "(30, 30)"
      ]
     },
     "execution_count": 35,
     "metadata": {},
     "output_type": "execute_result"
    }
   ],
   "source": [
    "attention_weights.shape"
   ]
  },
  {
   "cell_type": "code",
   "execution_count": 36,
   "metadata": {},
   "outputs": [
    {
     "data": {
      "image/png": "[encoded data removed]",
      "text/plain": [
       "<Figure size 720x720 with 2 Axes>"
      ]
     },
     "metadata": {
      "needs_background": "light"
     },
     "output_type": "display_data"
    }
   ],
   "source": [
    "import seaborn as sns\n",
    "plt.figure(figsize=(10, 10))\n",
    "ax = sns.heatmap(attention_weights)"
   ]
  }
 ],
 "metadata": {
  "kernelspec": {
   "display_name": "Python 3",
   "language": "python",
   "name": "python3"
  },
  "language_info": {
   "codemirror_mode": {
    "name": "ipython",
    "version": 3
   },
   "file_extension": ".py",
   "mimetype": "text/x-python",
   "name": "python",
   "nbconvert_exporter": "python",
   "pygments_lexer": "ipython3",
   "version": "3.8.8"
  }
 },
 "nbformat": 4,
 "nbformat_minor": 2
}
